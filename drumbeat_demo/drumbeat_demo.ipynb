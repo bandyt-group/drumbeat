{
 "cells": [
  {
   "cell_type": "markdown",
   "id": "a8585265-6bfd-43b7-8216-1ba264e86c84",
   "metadata": {},
   "source": [
    "# Tutorial for DRUMBEAT: Dynamically Resolved Universal Model for BayEsiAn network Tracking\n",
    "\n",
    "In this tutorial, we will demonstrate how to use **DRUMBEAT** package to investigate the probabilistic relationship between variables of interest in temporally resolved manner."
   ]
  },
  {
   "cell_type": "markdown",
   "id": "9a96734d-24b9-47fb-bbbc-4e62b33f31f3",
   "metadata": {},
   "source": [
    "**Step 1: Input Data**\r\n",
    "\r\n",
    "Obtain the temporally resolved data of your choice from MD simulation trajectories.  \r\n",
    "In this tutorial, we use intra-protein residue contact information extracted using [GetContacts](https://getcontacts.github.io/).\r\n",
    "\r\n",
    "Each file contains all interactions formed between residues in each frame of the trajectory.  \r\n",
    "Each line in the individual `.tsv` file represents **one interaction in one frame**.\r\n"
   ]
  },
  {
   "cell_type": "code",
   "execution_count": null,
   "id": "5cd52a15-5e24-4869-bdbc-2fb6c5036b28",
   "metadata": {},
   "outputs": [],
   "source": [
    "files=['md1.tsv'  ,'md2.tsv'  ,'md3.tsv'  ,'md4.tsv'  ,'md5.tsv']"
   ]
  },
  {
   "cell_type": "markdown",
   "id": "a104b506-9d94-4272-b0f8-ef4db226fafa",
   "metadata": {},
   "source": [
    "**Step 2: Constructing universal Bayesian Network.** \n",
    "\n",
    "The datasets, provided in this tutorial, can be processed on a standard PC. For large datasets, we do **not** recommend running this step on a standard PC.   \n",
    "A high-performance computing cluster is strongly recommended to ensure reasonable computation time and resource management.\n",
    "\n",
    "\n",
    "Import the following modules and make sure to append the path to **DRUMBEAT** and **BaNDyT** folders on your local machine."
   ]
  },
  {
   "cell_type": "code",
   "execution_count": null,
   "id": "8d775faf-28d1-4d75-baa0-f68789620942",
   "metadata": {},
   "outputs": [],
   "source": [
    "import numpy as np\n",
    "import matplotlib.pyplot as plt\n",
    "import sys\n",
    "sys.path.append('home/drumbeat/src')\n",
    "sys.path.append('home/bandyt/')\n",
    "import drumbeat as db\n",
    "import bandyt as bd"
   ]
  },
  {
   "cell_type": "markdown",
   "id": "279555c6-67c7-4689-aa2c-0891f168ff00",
   "metadata": {},
   "source": [
    "The next command will convert contact data obtained from **GetContacts** into binary matrices.  \n",
    "Each **column** will represent a contact between two residues (e.g., `R131_L167`), and each **row** will correspond to a frame from the MD simulation trajectory.\n",
    "\n",
    "Contacts are encoded in a binary format:  \n",
    "- `1` indicates the contact is present  \n",
    "- `0` indicates the contact is absent  \n",
    "\n",
    "The residue contact files provided in this tutorial are **1000 frames** long, and loading them will take approximately **15–20 seconds**."
   ]
  },
  {
   "cell_type": "code",
   "execution_count": null,
   "id": "166b3e64-8a20-4619-82f4-55b3a7894fb4",
   "metadata": {},
   "outputs": [],
   "source": [
    "MD=db.loadtrajensemble(files)"
   ]
  },
  {
   "cell_type": "markdown",
   "id": "49e64ec4-a657-442b-b39e-22da1e8afbc1",
   "metadata": {},
   "source": [
    "**Optional:** We recommend performing **feature selection** to retain the most informative variables using pairwise Mutual Information (MI) analysis. By default, only variables (in this case, residue contacts) with a mutual information value greater than 0.05 bits with at least one other variable in each dataset will be retained. The feature selection process is parallelized, and the number of processors used can be specified by the user (default: **4**). For the provided tutorial datasets, feature selection typically takes **2–3 minutes** to complete."
   ]
  },
  {
   "cell_type": "code",
   "execution_count": null,
   "id": "c989ca76-e737-4ebd-a371-1d665b58bbb4",
   "metadata": {},
   "outputs": [],
   "source": [
    "[m.MIfeatureselect(th=0.05,numproc=4) for m in MD]"
   ]
  },
  {
   "cell_type": "markdown",
   "id": "4be181d6-4d86-4d4b-a961-61b762d61c89",
   "metadata": {},
   "source": [
    "After loading the input files and performing optional feature selection, the next step is to create the **universal dataset**. To reduce computation time during Bayesian Network construction, we recommend randomly downsampling the number of trajectory frames used from each dataset. For optimal network resolution, the final dataset should ideally contain **at least** as many data points (frames) as variables (i.e., forming an *N × N* matrix), to ensure proper reconstruction. In this tutorial, we use a sample size of 200 frames per trajectory, resulting in a universal dataset of **1000 frames**."
   ]
  },
  {
   "cell_type": "code",
   "execution_count": null,
   "id": "4088aa26-3b92-40f0-b955-944e46f2b8d4",
   "metadata": {},
   "outputs": [],
   "source": [
    "uMD=db.getuniversaldataset(MD,samplesize=200)"
   ]
  },
  {
   "cell_type": "markdown",
   "id": "e90b04fa-582d-4a76-8d42-1735aaca5e11",
   "metadata": {},
   "source": [
    "Using the universal dataset, run **BaNDyT** to compute the **Bayesian Network universal graph**.  \n",
    "In this tutorial, the dataset contains **33 variables (contacts)** and **1000 data points (trajectory frames)**. The computation should take approximately **5 minutes** using default settings. To accelerate the computation, you can switch to the C-based backend if it has been compiled.  \n",
    "To do this, change the following line:\n",
    "```python\n",
    "srch = bd.search(dt)\n",
    "```\n",
    "to \n",
    "```python\n",
    "srch = bd.search(dt, ofunc=bd.cmu)\n",
    "```\n",
    "Make sure the C package is compiled. For setup instructions, refer to the [BaNDyT GitHub repository](https://github.com/bandyt-group/bandyt)."
   ]
  },
  {
   "cell_type": "code",
   "execution_count": null,
   "id": "923ef8d8-9eb0-457e-9f26-b1f57ba80918",
   "metadata": {},
   "outputs": [],
   "source": [
    "dt=bd.loader(np.vstack((uMD.labels,uMD.traj.astype(int))))\n",
    "srch=bd.search(dt)\n",
    "srch.restarts(nrestarts=50)\n",
    "srch.dot(filename='universalgraph')"
   ]
  },
  {
   "cell_type": "markdown",
   "id": "6340963d-b3ab-4883-a057-682f21ef06d1",
   "metadata": {},
   "source": [
    "**Step 3: Reconstructing Individual Temporally Resolved Graphs from the Universal Graph**\n",
    "\n",
    "This part of the algorithm can be run on a standard PC.  \n",
    "The number of processors used can be defined by the user (default: **4**).\n",
    "\n",
    "Using the generated universal graph (in `.dot` format) and the initially loaded MD dataset, obtain **DRUMBEAT** objects for each trajectory.  \n",
    "For the demo trajectories provided in this tutorial, this step takes approximately **1 minute** to complete."
   ]
  },
  {
   "cell_type": "code",
   "execution_count": null,
   "id": "b8b179ec-1460-4e1a-a21f-1cf2f9d317ee",
   "metadata": {},
   "outputs": [],
   "source": [
    "dotfile='universalgraph.dot'\n",
    "D=db.gettrajdbns(MD,bn_dot=dotfile,windowlist=[150,300],nprocs=4)"
   ]
  },
  {
   "cell_type": "markdown",
   "id": "82e3496f-4c8e-41b6-9492-8bc2384a0d21",
   "metadata": {},
   "source": [
    "To analyze node importance in the reconstructed graph, we can sort and inspect nodes by their **weighted degree** for trajectory 0 (`md1.tsv`)."
   ]
  },
  {
   "cell_type": "code",
   "execution_count": null,
   "id": "0e902b35-5a74-41e7-9d66-29fddbbcae0d",
   "metadata": {},
   "outputs": [],
   "source": [
    "D[0].nodes[D[0].wdsort]"
   ]
  },
  {
   "cell_type": "markdown",
   "id": "5052def8-8d52-413d-84ff-c7bebbb121c2",
   "metadata": {},
   "source": [
    "To visualize the top 10 nodes with the highest weighted degree in trajectory 0, run the following command:"
   ]
  },
  {
   "cell_type": "code",
   "execution_count": null,
   "id": "ea1c1595-1f55-41c0-a606-7f875bad387f",
   "metadata": {},
   "outputs": [],
   "source": [
    "plt.figure()\n",
    "[plt.plot(x) for x in D[0].wdegree[D[0].wdsort][:10]]"
   ]
  }
 ],
 "metadata": {
  "kernelspec": {
   "display_name": "Python 3 (ipykernel)",
   "language": "python",
   "name": "python3"
  },
  "language_info": {
   "codemirror_mode": {
    "name": "ipython",
    "version": 3
   },
   "file_extension": ".py",
   "mimetype": "text/x-python",
   "name": "python",
   "nbconvert_exporter": "python",
   "pygments_lexer": "ipython3",
   "version": "3.11.7"
  }
 },
 "nbformat": 4,
 "nbformat_minor": 5
}
